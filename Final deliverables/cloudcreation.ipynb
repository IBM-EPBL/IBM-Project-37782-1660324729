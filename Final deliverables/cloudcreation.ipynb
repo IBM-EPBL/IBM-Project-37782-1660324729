{
  "cells": [
    {
      "cell_type": "code",
      "execution_count": null,
      "id": "862cadc2",
      "metadata": {
        "id": "862cadc2"
      },
      "outputs": [],
      "source": [
        "from cloudant.client import  Cloudant"
      ]
    },
    {
      "cell_type": "code",
      "execution_count": null,
      "id": "90d78c0a",
      "metadata": {
        "id": "90d78c0a",
        "outputId": "10d829dd-5682-4d61-ba3a-e5f48e8202a0"
      },
      "outputs": [
        {
          "name": "stdout",
          "output_type": "stream",
          "text": [
            "Collecting cloudantNote: you may need to restart the kernel to use updated packages.\n",
            "  Downloading cloudant-2.15.0-py3-none-any.whl (80 kB)\n",
            "Requirement already satisfied: requests<3.0.0,>=2.7.0 in d:\\anaconda3\\lib\\site-packages (from cloudant) (2.27.1)\n",
            "Requirement already satisfied: idna<4,>=2.5 in d:\\anaconda3\\lib\\site-packages (from requests<3.0.0,>=2.7.0->cloudant) (3.3)\n",
            "Requirement already satisfied: certifi>=2017.4.17 in d:\\anaconda3\\lib\\site-packages (from requests<3.0.0,>=2.7.0->cloudant) (2021.10.8)\n",
            "Requirement already satisfied: charset-normalizer~=2.0.0 in d:\\anaconda3\\lib\\site-packages (from requests<3.0.0,>=2.7.0->cloudant) (2.0.4)\n",
            "Requirement already satisfied: urllib3<1.27,>=1.21.1 in d:\\anaconda3\\lib\\site-packages (from requests<3.0.0,>=2.7.0->cloudant) (1.26.9)\n",
            "Installing collected packages: cloudant\n",
            "Successfully installed cloudant-2.15.0\n",
            "\n"
          ]
        }
      ],
      "source": [
        "pip install cloudant"
      ]
    },
    {
      "cell_type": "code",
      "execution_count": null,
      "id": "0c353550",
      "metadata": {
        "id": "0c353550"
      },
      "outputs": [],
      "source": [
        "client=Cloudant.iam('dinesh0999','hmgQW9sVUqNfXADH8M6Ey-AoKJ8VWyp2Hd1yWV3SVRaP',connect=True)"
      ]
    },
    {
      "cell_type": "code",
      "execution_count": null,
      "id": "1fe2b0eb",
      "metadata": {
        "id": "1fe2b0eb"
      },
      "outputs": [],
      "source": [
        "my_database=client.create_database('my_database')"
      ]
    },
    {
      "cell_type": "code",
      "execution_count": null,
      "id": "7ad00b6d",
      "metadata": {
        "id": "7ad00b6d"
      },
      "outputs": [],
      "source": []
    }
  ],
  "metadata": {
    "kernelspec": {
      "display_name": "Python 3 (ipykernel)",
      "language": "python",
      "name": "python3"
    },
    "language_info": {
      "codemirror_mode": {
        "name": "ipython",
        "version": 3
      },
      "file_extension": ".py",
      "mimetype": "text/x-python",
      "name": "python",
      "nbconvert_exporter": "python",
      "pygments_lexer": "ipython3",
      "version": "3.9.12"
    },
    "colab": {
      "provenance": []
    }
  },
  "nbformat": 4,
  "nbformat_minor": 5
}