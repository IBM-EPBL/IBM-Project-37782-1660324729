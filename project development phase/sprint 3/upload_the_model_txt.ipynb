{
  "cells": [
    {
      "cell_type": "markdown",
      "metadata": {
        "id": "3hmChyuWEODx"
      },
      "source": [
        "DATA COLLECTION"
      ]
    },
    {
      "cell_type": "markdown",
      "metadata": {
        "id": "FawyO9rnEREG"
      },
      "source": [
        "Clonning kaggle in google colab"
      ]
    },
    {
      "cell_type": "code",
      "execution_count": null,
      "metadata": {
        "colab": {
          "base_uri": "https://localhost:8080/"
        },
        "id": "7lJuTQCZ0vMv",
        "outputId": "b221f177-97d6-4bf9-857a-b26d77c1d7f7"
      },
      "outputs": [
        {
          "name": "stdout",
          "output_type": "stream",
          "text": [
            "Looking in indexes: https://pypi.org/simple, https://us-python.pkg.dev/colab-wheels/public/simple/\n",
            "Requirement already satisfied: watson-machine-learning-client in /usr/local/lib/python3.7/dist-packages (1.0.391)\n",
            "Requirement already satisfied: tabulate in /usr/local/lib/python3.7/dist-packages (from watson-machine-learning-client) (0.8.10)\n",
            "Requirement already satisfied: urllib3 in /usr/local/lib/python3.7/dist-packages (from watson-machine-learning-client) (1.26.13)\n",
            "Requirement already satisfied: ibm-cos-sdk in /usr/local/lib/python3.7/dist-packages (from watson-machine-learning-client) (2.12.0)\n",
            "Requirement already satisfied: certifi in /usr/local/lib/python3.7/dist-packages (from watson-machine-learning-client) (2022.9.24)\n",
            "Requirement already satisfied: boto3 in /usr/local/lib/python3.7/dist-packages (from watson-machine-learning-client) (1.26.16)\n",
            "Requirement already satisfied: pandas in /usr/local/lib/python3.7/dist-packages (from watson-machine-learning-client) (1.3.5)\n",
            "Requirement already satisfied: tqdm in /usr/local/lib/python3.7/dist-packages (from watson-machine-learning-client) (4.64.1)\n",
            "Requirement already satisfied: lomond in /usr/local/lib/python3.7/dist-packages (from watson-machine-learning-client) (0.3.3)\n",
            "Requirement already satisfied: requests in /usr/local/lib/python3.7/dist-packages (from watson-machine-learning-client) (2.28.1)\n",
            "Requirement already satisfied: botocore<1.30.0,>=1.29.16 in /usr/local/lib/python3.7/dist-packages (from boto3->watson-machine-learning-client) (1.29.16)\n",
            "Requirement already satisfied: jmespath<2.0.0,>=0.7.1 in /usr/local/lib/python3.7/dist-packages (from boto3->watson-machine-learning-client) (0.10.0)\n",
            "Requirement already satisfied: s3transfer<0.7.0,>=0.6.0 in /usr/local/lib/python3.7/dist-packages (from boto3->watson-machine-learning-client) (0.6.0)\n",
            "Requirement already satisfied: python-dateutil<3.0.0,>=2.1 in /usr/local/lib/python3.7/dist-packages (from botocore<1.30.0,>=1.29.16->boto3->watson-machine-learning-client) (2.8.2)\n",
            "Requirement already satisfied: six>=1.5 in /usr/local/lib/python3.7/dist-packages (from python-dateutil<3.0.0,>=2.1->botocore<1.30.0,>=1.29.16->boto3->watson-machine-learning-client) (1.15.0)\n",
            "Requirement already satisfied: ibm-cos-sdk-core==2.12.0 in /usr/local/lib/python3.7/dist-packages (from ibm-cos-sdk->watson-machine-learning-client) (2.12.0)\n",
            "Requirement already satisfied: ibm-cos-sdk-s3transfer==2.12.0 in /usr/local/lib/python3.7/dist-packages (from ibm-cos-sdk->watson-machine-learning-client) (2.12.0)\n",
            "Requirement already satisfied: idna<4,>=2.5 in /usr/local/lib/python3.7/dist-packages (from requests->watson-machine-learning-client) (2.10)\n",
            "Requirement already satisfied: charset-normalizer<3,>=2 in /usr/local/lib/python3.7/dist-packages (from requests->watson-machine-learning-client) (2.1.1)\n",
            "Requirement already satisfied: numpy>=1.17.3 in /usr/local/lib/python3.7/dist-packages (from pandas->watson-machine-learning-client) (1.21.6)\n",
            "Requirement already satisfied: pytz>=2017.3 in /usr/local/lib/python3.7/dist-packages (from pandas->watson-machine-learning-client) (2022.6)\n"
          ]
        }
      ],
      "source": [
        "!pip install watson-machine-learning-client --upgrade"
      ]
    },
    {
      "cell_type": "markdown",
      "metadata": {
        "id": "wnEQMZYvFaoC"
      },
      "source": [
        "wml_credentials = {\n",
        "                    'url' : 'https://us-south.ml.cloud.ibm.com',\n",
        "                    'apikey' : 'v8A4FkOFCklevHlGUSQIhIRw5n98OXUs0M6R338-Qg6M'\n",
        "}\n",
        "client = APIClient(wml_credentials)"
      ]
    },
    {
      "cell_type": "code",
      "execution_count": null,
      "metadata": {
        "colab": {
          "base_uri": "https://localhost:8080/"
        },
        "id": "Y0pK8NMI0vMv",
        "outputId": "468d1822-a904-4134-8a1e-1788f4191072"
      },
      "outputs": [
        {
          "name": "stdout",
          "output_type": "stream",
          "text": [
            "Python 3.7 and 3.8 frameworks are deprecated and will be removed in a future release. Use Python 3.9 framework instead.\n"
          ]
        }
      ],
      "source": [
        "from  ibm_watson_machine_learning import APIClient\n",
        "wml_credentials = {\n",
        "                    'url' : 'https://us-south.ml.cloud.ibm.com',\n",
        "                    'apikey' : 'hmgQW9sVUqNfXADH8M6Ey-AoKJ8VWyp2Hd1yWV3SVRaP'\n",
        "}\n",
        "client = APIClient(wml_credentials)\n"
      ]
    },
    {
      "cell_type": "code",
      "execution_count": null,
      "metadata": {
        "id": "hKDsAPeI0vMv"
      },
      "outputs": [],
      "source": [
        "def guid_from_name_space(client,space_name):\n",
        "    space = client.spaces.get_details()\n",
        "    print(client)\n",
        "\n",
        "    return (next(item for item in space ['resources'] if item['entity']['name'] == space_name)['metadata']['id'])"
      ]
    },
    {
      "cell_type": "code",
      "execution_count": null,
      "metadata": {
        "colab": {
          "base_uri": "https://localhost:8080/"
        },
        "id": "WmcfmgzuOW1t",
        "outputId": "3390c5a7-d75a-4789-b77d-048d3c08a5b5"
      },
      "outputs": [
        {
          "name": "stdout",
          "output_type": "stream",
          "text": [
            "{'resources': [{'entity': {'compute': [{'crn': 'crn:v1:bluemix:public:pm-20:us-south:a/983d51adbff3460084ae66a0cba7efa4:fd0f1b84-53df-461d-8f47-913a44fafaac::', 'guid': 'fd0f1b84-53df-461d-8f47-913a44fafaac', 'name': 'Watson Machine Learning-cd', 'type': 'machine_learning'}], 'description': '', 'name': 'diabetic-retinopathy-detection', 'scope': {'bss_account_id': '983d51adbff3460084ae66a0cba7efa4'}, 'stage': {'production': False}, 'status': {'state': 'active'}, 'storage': {'properties': {'bucket_name': '96bf7834-7f1b-4d29-b665-4bcf633921ba', 'bucket_region': 'us-south', 'credentials': {'admin': {'access_key_id': 'b0af1a136b514b87b281a529b687dee9', 'api_key': 'aVSLELgO32YNnxCLOHoWxHizJhdJAdIoZI_Fkbknf1aZ', 'secret_access_key': 'c0b8393b4594a7c163244c321e3f13ff7b6e1eb467ca8bc9', 'service_id': 'ServiceId-0acaeb64-753d-485e-add1-36980d82f828'}, 'editor': {'access_key_id': '8088f234616546ad87a715838b1ad626', 'api_key': 'ppaF9fakH0aTRhGQBPD-09p4H44r0adOJzDWNueqf5Lw', 'resource_key_crn': 'crn:v1:bluemix:public:cloud-object-storage:global:a/983d51adbff3460084ae66a0cba7efa4:dd9b12be-469a-4fa7-a0cf-c4894629e2ae::', 'secret_access_key': 'ebc21d522d57d8b73621de9041bc1cf8e470146e19d8b402', 'service_id': 'ServiceId-00ed6117-da6f-4a5b-870a-36bc293e6ef3'}, 'viewer': {'access_key_id': '4073223bcb8746cdafeb48cc8f9ee5b9', 'api_key': 'RFChYWid4uQ29PhdUYBXtQZKDaBPKIAqi7qUr4OuDy3p', 'resource_key_crn': 'crn:v1:bluemix:public:cloud-object-storage:global:a/983d51adbff3460084ae66a0cba7efa4:dd9b12be-469a-4fa7-a0cf-c4894629e2ae::', 'secret_access_key': '458ae76b6b2183f807b22234b056f1e556e85a27c488108f', 'service_id': 'ServiceId-071c6c5c-8351-4ab1-aa3f-9e022a052dbb'}}, 'endpoint_url': 'https://s3.us-south.cloud-object-storage.appdomain.cloud', 'guid': 'dd9b12be-469a-4fa7-a0cf-c4894629e2ae', 'resource_crn': 'crn:v1:bluemix:public:cloud-object-storage:global:a/983d51adbff3460084ae66a0cba7efa4:dd9b12be-469a-4fa7-a0cf-c4894629e2ae::'}, 'type': 'bmcos_object_storage'}}, 'metadata': {'created_at': '2022-11-25T10:24:42.544Z', 'creator_id': 'IBMid-6620044CF2', 'id': 'bea9bf96-8365-4a79-b704-59c298092cca', 'updated_at': '2022-11-25T10:25:04.812Z', 'url': '/v2/spaces/bea9bf96-8365-4a79-b704-59c298092cca'}}]}\n"
          ]
        }
      ],
      "source": [
        "print(client.spaces.get_details())"
      ]
    },
    {
      "cell_type": "code",
      "execution_count": null,
      "metadata": {
        "colab": {
          "base_uri": "https://localhost:8080/"
        },
        "id": "IakR6eD10vMv",
        "outputId": "bc623beb-fcb4-4c21-913f-6eb01499af80"
      },
      "outputs": [
        {
          "name": "stdout",
          "output_type": "stream",
          "text": [
            "<ibm_watson_machine_learning.client.APIClient object at 0x7f4396107d50>\n",
            "space uid :  bea9bf96-8365-4a79-b704-59c298092cca\n"
          ]
        }
      ],
      "source": [
        "space_uid = guid_from_name_space(client,'diabetic-retinopathy-detection')\n",
        "print('space uid : ',space_uid)"
      ]
    },
    {
      "cell_type": "code",
      "execution_count": null,
      "metadata": {
        "colab": {
          "base_uri": "https://localhost:8080/",
          "height": 36
        },
        "id": "fkde9b3X0vMw",
        "outputId": "e26536b2-cd0d-4e74-ba94-21fadd32f8d9"
      },
      "outputs": [
        {
          "data": {
            "application/vnd.google.colaboratory.intrinsic+json": {
              "type": "string"
            },
            "text/plain": [
              "'SUCCESS'"
            ]
          },
          "execution_count": 82,
          "metadata": {},
          "output_type": "execute_result"
        }
      ],
      "source": [
        "client.set.default_space(space_uid)"
      ]
    },
    {
      "cell_type": "code",
      "execution_count": null,
      "metadata": {
        "colab": {
          "base_uri": "https://localhost:8080/"
        },
        "id": "rCnMwDLd0vMw",
        "outputId": "4dda483f-ff35-4c4a-c292-c6f3038ef18d"
      },
      "outputs": [
        {
          "name": "stdout",
          "output_type": "stream",
          "text": [
            "-----------------------------  ------------------------------------  ----\n",
            "NAME                           ASSET_ID                              TYPE\n",
            "default_py3.6                  0062b8c9-8b7d-44a0-a9b9-46c416adcbd9  base\n",
            "kernel-spark3.2-scala2.12      020d69ce-7ac1-5e68-ac1a-31189867356a  base\n",
            "pytorch-onnx_1.3-py3.7-edt     069ea134-3346-5748-b513-49120e15d288  base\n",
            "scikit-learn_0.20-py3.6        09c5a1d0-9c1e-4473-a344-eb7b665ff687  base\n",
            "spark-mllib_3.0-scala_2.12     09f4cff0-90a7-5899-b9ed-1ef348aebdee  base\n",
            "pytorch-onnx_rt22.1-py3.9      0b848dd4-e681-5599-be41-b5f6fccc6471  base\n",
            "ai-function_0.1-py3.6          0cdb0f1e-5376-4f4d-92dd-da3b69aa9bda  base\n",
            "shiny-r3.6                     0e6e79df-875e-4f24-8ae9-62dcc2148306  base\n",
            "tensorflow_2.4-py3.7-horovod   1092590a-307d-563d-9b62-4eb7d64b3f22  base\n",
            "pytorch_1.1-py3.6              10ac12d6-6b30-4ccd-8392-3e922c096a92  base\n",
            "tensorflow_1.15-py3.6-ddl      111e41b3-de2d-5422-a4d6-bf776828c4b7  base\n",
            "autoai-kb_rt22.2-py3.10        125b6d9a-5b1f-5e8d-972a-b251688ccf40  base\n",
            "runtime-22.1-py3.9             12b83a17-24d8-5082-900f-0ab31fbfd3cb  base\n",
            "scikit-learn_0.22-py3.6        154010fa-5b3b-4ac1-82af-4d5ee5abbc85  base\n",
            "default_r3.6                   1b70aec3-ab34-4b87-8aa0-a4a3c8296a36  base\n",
            "pytorch-onnx_1.3-py3.6         1bc6029a-cc97-56da-b8e0-39c3880dbbe7  base\n",
            "kernel-spark3.3-r3.6           1c9e5454-f216-59dd-a20e-474a5cdf5988  base\n",
            "pytorch-onnx_rt22.1-py3.9-edt  1d362186-7ad5-5b59-8b6c-9d0880bde37f  base\n",
            "tensorflow_2.1-py3.6           1eb25b84-d6ed-5dde-b6a5-3fbdf1665666  base\n",
            "spark-mllib_3.2                20047f72-0a98-58c7-9ff5-a77b012eb8f5  base\n",
            "tensorflow_2.4-py3.8-horovod   217c16f6-178f-56bf-824a-b19f20564c49  base\n",
            "runtime-22.1-py3.9-cuda        26215f05-08c3-5a41-a1b0-da66306ce658  base\n",
            "do_py3.8                       295addb5-9ef9-547e-9bf4-92ae3563e720  base\n",
            "autoai-ts_3.8-py3.8            2aa0c932-798f-5ae9-abd6-15e0c2402fb5  base\n",
            "tensorflow_1.15-py3.6          2b73a275-7cbf-420b-a912-eae7f436e0bc  base\n",
            "kernel-spark3.3-py3.9          2b7961e2-e3b1-5a8c-a491-482c8368839a  base\n",
            "pytorch_1.2-py3.6              2c8ef57d-2687-4b7d-acce-01f94976dac1  base\n",
            "spark-mllib_2.3                2e51f700-bca0-4b0d-88dc-5c6791338875  base\n",
            "pytorch-onnx_1.1-py3.6-edt     32983cea-3f32-4400-8965-dde874a8d67e  base\n",
            "spark-mllib_3.0-py37           36507ebe-8770-55ba-ab2a-eafe787600e9  base\n",
            "spark-mllib_2.4                390d21f8-e58b-4fac-9c55-d7ceda621326  base\n",
            "autoai-ts_rt22.2-py3.10        396b2e83-0953-5b86-9a55-7ce1628a406f  base\n",
            "xgboost_0.82-py3.6             39e31acd-5f30-41dc-ae44-60233c80306e  base\n",
            "pytorch-onnx_1.2-py3.6-edt     40589d0e-7019-4e28-8daa-fb03b6f4fe12  base\n",
            "pytorch-onnx_rt22.2-py3.10     40e73f55-783a-5535-b3fa-0c8b94291431  base\n",
            "default_r36py38                41c247d3-45f8-5a71-b065-8580229facf0  base\n",
            "autoai-ts_rt22.1-py3.9         4269d26e-07ba-5d40-8f66-2d495b0c71f7  base\n",
            "autoai-obm_3.0                 42b92e18-d9ab-567f-988a-4240ba1ed5f7  base\n",
            "pmml-3.0_4.3                   493bcb95-16f1-5bc5-bee8-81b8af80e9c7  base\n",
            "spark-mllib_2.4-r_3.6          49403dff-92e9-4c87-a3d7-a42d0021c095  base\n",
            "xgboost_0.90-py3.6             4ff8d6c2-1343-4c18-85e1-689c965304d3  base\n",
            "pytorch-onnx_1.1-py3.6         50f95b2a-bc16-43bb-bc94-b0bed208c60b  base\n",
            "autoai-ts_3.9-py3.8            52c57136-80fa-572e-8728-a5e7cbb42cde  base\n",
            "spark-mllib_2.4-scala_2.11     55a70f99-7320-4be5-9fb9-9edb5a443af5  base\n",
            "spark-mllib_3.0                5c1b0ca2-4977-5c2e-9439-ffd44ea8ffe9  base\n",
            "autoai-obm_2.0                 5c2e37fa-80b8-5e77-840f-d912469614ee  base\n",
            "spss-modeler_18.1              5c3cad7e-507f-4b2a-a9a3-ab53a21dee8b  base\n",
            "cuda-py3.8                     5d3232bf-c86b-5df4-a2cd-7bb870a1cd4e  base\n",
            "runtime-22.2-py3.10-xc         5e8cddff-db4a-5a6a-b8aa-2d4af9864dab  base\n",
            "autoai-kb_3.1-py3.7            632d4b22-10aa-5180-88f0-f52dfb6444d7  base\n",
            "-----------------------------  ------------------------------------  ----\n",
            "Note: Only first 50 records were displayed. To display more use 'limit' parameter.\n"
          ]
        }
      ],
      "source": [
        "client.software_specifications.list()"
      ]
    },
    {
      "cell_type": "code",
      "execution_count": null,
      "metadata": {
        "colab": {
          "base_uri": "https://localhost:8080/",
          "height": 36
        },
        "id": "gW1fvwXB0vMw",
        "outputId": "a3e6502f-e96a-4614-8f61-a3469e5dd9a0"
      },
      "outputs": [
        {
          "data": {
            "application/vnd.google.colaboratory.intrinsic+json": {
              "type": "string"
            },
            "text/plain": [
              "'acd9c798-6974-5d2f-a657-ce06e986df4d'"
            ]
          },
          "execution_count": 84,
          "metadata": {},
          "output_type": "execute_result"
        }
      ],
      "source": [
        "software_space_uid = client.software_specifications.get_uid_by_name(\"tensorflow_rt22.1-py3.9\")\n",
        "software_space_uid"
      ]
    },
    {
      "cell_type": "code",
      "execution_count": null,
      "metadata": {
        "colab": {
          "base_uri": "https://localhost:8080/"
        },
        "id": "8bJrVNaI0vMw",
        "outputId": "ebe2a189-1ed6-41cb-8096-1fc1f69ee8b0"
      },
      "outputs": [
        {
          "data": {
            "text/plain": [
              "{'entity': {'hybrid_pipeline_software_specs': [],\n",
              "  'software_spec': {'id': 'acd9c798-6974-5d2f-a657-ce06e986df4d',\n",
              "   'name': 'tensorflow_rt22.1-py3.9'},\n",
              "  'type': 'tensorflow_2.7'},\n",
              " 'metadata': {'created_at': '2022-11-25T10:38:19.896Z',\n",
              "  'id': 'fed8b19f-8c21-4c93-bcf2-7f630f2387b4',\n",
              "  'modified_at': '2022-11-25T10:38:26.125Z',\n",
              "  'name': 'IBM_Diabetic_Retinopathy_Detection',\n",
              "  'owner': 'IBMid-6620044CF2',\n",
              "  'resource_key': '93db0cc6-fd81-4b90-9452-39ea690dfd28',\n",
              "  'space_id': 'bea9bf96-8365-4a79-b704-59c298092cca'},\n",
              " 'system': {'warnings': []}}"
            ]
          },
          "execution_count": 85,
          "metadata": {},
          "output_type": "execute_result"
        }
      ],
      "source": [
        "model_details = client.repository.store_model(model=\"dr-detection-model.tgz\", meta_props={\n",
        "    client.repository.ModelMetaNames.NAME:\"IBM_Diabetic_Retinopathy_Detection\",\n",
        "    client.repository.ModelMetaNames.TYPE:\"tensorflow_2.7\",\n",
        "    client.repository.ModelMetaNames.SOFTWARE_SPEC_UID:software_space_uid\n",
        "})\n",
        "model_details"
      ]
    },
    {
      "cell_type": "code",
      "execution_count": null,
      "metadata": {
        "colab": {
          "base_uri": "https://localhost:8080/",
          "height": 36
        },
        "id": "m-aaTCdl0vMw",
        "outputId": "d0770a26-3469-475e-a0e4-6e76fbfd8893"
      },
      "outputs": [
        {
          "data": {
            "application/vnd.google.colaboratory.intrinsic+json": {
              "type": "string"
            },
            "text/plain": [
              "'fed8b19f-8c21-4c93-bcf2-7f630f2387b4'"
            ]
          },
          "execution_count": 86,
          "metadata": {},
          "output_type": "execute_result"
        }
      ],
      "source": [
        "model_id = client.repository.get_model_id(model_details)\n",
        "model_id"
      ]
    },
    {
      "cell_type": "code",
      "execution_count": null,
      "metadata": {
        "colab": {
          "base_uri": "https://localhost:8080/",
          "height": 328
        },
        "id": "PLCDXYiw0vMx",
        "outputId": "3adb3471-f1e0-4d4f-ea96-711fcb36fa00"
      },
      "outputs": [
        {
          "name": "stderr",
          "output_type": "stream",
          "text": [
            "WARNING:ibm_watson_machine_learning.wml_client_error:File with name: 'dr-detection-model.tgz' already exists.\n"
          ]
        },
        {
          "ename": "WMLClientError",
          "evalue": "ignored",
          "output_type": "error",
          "traceback": [
            "\u001b[0;31m---------------------------------------------------------------------------\u001b[0m",
            "\u001b[0;31mWMLClientError\u001b[0m                            Traceback (most recent call last)",
            "\u001b[0;32m<ipython-input-87-c5536a97525f>\u001b[0m in \u001b[0;36m<module>\u001b[0;34m\u001b[0m\n\u001b[0;32m----> 1\u001b[0;31m \u001b[0mclient\u001b[0m\u001b[0;34m.\u001b[0m\u001b[0mrepository\u001b[0m\u001b[0;34m.\u001b[0m\u001b[0mdownload\u001b[0m\u001b[0;34m(\u001b[0m\u001b[0mmodel_id\u001b[0m\u001b[0;34m,\u001b[0m \u001b[0;34m'dr-detection-model.tgz'\u001b[0m\u001b[0;34m)\u001b[0m\u001b[0;34m\u001b[0m\u001b[0;34m\u001b[0m\u001b[0m\n\u001b[0m",
            "\u001b[0;32m/usr/local/lib/python3.7/dist-packages/ibm_watson_machine_learning/repository.py\u001b[0m in \u001b[0;36mdownload\u001b[0;34m(self, artifact_uid, filename, rev_uid, format)\u001b[0m\n\u001b[1;32m    901\u001b[0m \u001b[0;34m\u001b[0m\u001b[0m\n\u001b[1;32m    902\u001b[0m         \u001b[0;32mif\u001b[0m \u001b[0mres\u001b[0m\u001b[0;34m[\u001b[0m\u001b[0;34m'model'\u001b[0m\u001b[0;34m]\u001b[0m \u001b[0;32mis\u001b[0m \u001b[0;32mTrue\u001b[0m\u001b[0;34m:\u001b[0m\u001b[0;34m\u001b[0m\u001b[0;34m\u001b[0m\u001b[0m\n\u001b[0;32m--> 903\u001b[0;31m             \u001b[0;32mreturn\u001b[0m \u001b[0mself\u001b[0m\u001b[0;34m.\u001b[0m\u001b[0m_client\u001b[0m\u001b[0;34m.\u001b[0m\u001b[0m_models\u001b[0m\u001b[0;34m.\u001b[0m\u001b[0mdownload\u001b[0m\u001b[0;34m(\u001b[0m\u001b[0martifact_uid\u001b[0m\u001b[0;34m,\u001b[0m \u001b[0mfilename\u001b[0m\u001b[0;34m,\u001b[0m \u001b[0mrev_uid\u001b[0m\u001b[0;34m,\u001b[0m\u001b[0mformat\u001b[0m\u001b[0;34m)\u001b[0m\u001b[0;34m\u001b[0m\u001b[0;34m\u001b[0m\u001b[0m\n\u001b[0m\u001b[1;32m    904\u001b[0m         \u001b[0;32melif\u001b[0m \u001b[0mres\u001b[0m\u001b[0;34m[\u001b[0m\u001b[0;34m'function'\u001b[0m\u001b[0;34m]\u001b[0m \u001b[0;32mis\u001b[0m \u001b[0;32mTrue\u001b[0m\u001b[0;34m:\u001b[0m\u001b[0;34m\u001b[0m\u001b[0;34m\u001b[0m\u001b[0m\n\u001b[1;32m    905\u001b[0m             \u001b[0;32mreturn\u001b[0m \u001b[0mself\u001b[0m\u001b[0;34m.\u001b[0m\u001b[0m_client\u001b[0m\u001b[0;34m.\u001b[0m\u001b[0m_functions\u001b[0m\u001b[0;34m.\u001b[0m\u001b[0mdownload\u001b[0m\u001b[0;34m(\u001b[0m\u001b[0martifact_uid\u001b[0m\u001b[0;34m,\u001b[0m \u001b[0mfilename\u001b[0m\u001b[0;34m,\u001b[0m \u001b[0mrev_uid\u001b[0m\u001b[0;34m)\u001b[0m\u001b[0;34m\u001b[0m\u001b[0;34m\u001b[0m\u001b[0m\n",
            "\u001b[0;32m/usr/local/lib/python3.7/dist-packages/ibm_watson_machine_learning/models.py\u001b[0m in \u001b[0;36mdownload\u001b[0;34m(self, model_uid, filename, rev_uid, format)\u001b[0m\n\u001b[1;32m   1803\u001b[0m         \"\"\"\n\u001b[1;32m   1804\u001b[0m         \u001b[0;32mif\u001b[0m \u001b[0mos\u001b[0m\u001b[0;34m.\u001b[0m\u001b[0mpath\u001b[0m\u001b[0;34m.\u001b[0m\u001b[0misfile\u001b[0m\u001b[0;34m(\u001b[0m\u001b[0mfilename\u001b[0m\u001b[0;34m)\u001b[0m\u001b[0;34m:\u001b[0m\u001b[0;34m\u001b[0m\u001b[0;34m\u001b[0m\u001b[0m\n\u001b[0;32m-> 1805\u001b[0;31m             \u001b[0;32mraise\u001b[0m \u001b[0mWMLClientError\u001b[0m\u001b[0;34m(\u001b[0m\u001b[0;34mu'File with name: \\'{}\\' already exists.'\u001b[0m\u001b[0;34m.\u001b[0m\u001b[0mformat\u001b[0m\u001b[0;34m(\u001b[0m\u001b[0mfilename\u001b[0m\u001b[0;34m)\u001b[0m\u001b[0;34m)\u001b[0m\u001b[0;34m\u001b[0m\u001b[0;34m\u001b[0m\u001b[0m\n\u001b[0m\u001b[1;32m   1806\u001b[0m         \u001b[0;32mif\u001b[0m \u001b[0mrev_uid\u001b[0m \u001b[0;32mis\u001b[0m \u001b[0;32mnot\u001b[0m \u001b[0;32mNone\u001b[0m \u001b[0;32mand\u001b[0m \u001b[0mself\u001b[0m\u001b[0;34m.\u001b[0m\u001b[0m_client\u001b[0m\u001b[0;34m.\u001b[0m\u001b[0mICP_30\u001b[0m \u001b[0;32mis\u001b[0m \u001b[0;32mNone\u001b[0m \u001b[0;32mand\u001b[0m \u001b[0;32mnot\u001b[0m \u001b[0mself\u001b[0m\u001b[0;34m.\u001b[0m\u001b[0m_client\u001b[0m\u001b[0;34m.\u001b[0m\u001b[0mCLOUD_PLATFORM_SPACES\u001b[0m\u001b[0;31m\\\u001b[0m\u001b[0;34m\u001b[0m\u001b[0;34m\u001b[0m\u001b[0m\n\u001b[1;32m   1807\u001b[0m                 \u001b[0;32mand\u001b[0m \u001b[0mself\u001b[0m\u001b[0;34m.\u001b[0m\u001b[0m_client\u001b[0m\u001b[0;34m.\u001b[0m\u001b[0mICP_35\u001b[0m \u001b[0;32mis\u001b[0m \u001b[0;32mNone\u001b[0m \u001b[0;32mand\u001b[0m \u001b[0mself\u001b[0m\u001b[0;34m.\u001b[0m\u001b[0m_client\u001b[0m\u001b[0;34m.\u001b[0m\u001b[0mICP_40\u001b[0m \u001b[0;32mis\u001b[0m \u001b[0;32mNone\u001b[0m \u001b[0;32mand\u001b[0m \u001b[0mself\u001b[0m\u001b[0;34m.\u001b[0m\u001b[0m_client\u001b[0m\u001b[0;34m.\u001b[0m\u001b[0mICP_45\u001b[0m \u001b[0;32mis\u001b[0m \u001b[0;32mNone\u001b[0m\u001b[0;31m \u001b[0m\u001b[0;31m\\\u001b[0m\u001b[0;34m\u001b[0m\u001b[0;34m\u001b[0m\u001b[0m\n",
            "\u001b[0;31mWMLClientError\u001b[0m: File with name: 'dr-detection-model.tgz' already exists."
          ]
        }
      ],
      "source": [
        "client.repository.download(model_id, 'dr-detection-model.tgz')"
      ]
    },
    {
      "cell_type": "code",
      "execution_count": null,
      "metadata": {
        "id": "S5m7xwXf0vMx"
      },
      "outputs": [],
      "source": []
    }
  ],
  "metadata": {
    "colab": {
      "provenance": []
    },
    "kernelspec": {
      "display_name": "Python 3.9",
      "language": "python",
      "name": "python3"
    },
    "language_info": {
      "codemirror_mode": {
        "name": "ipython",
        "version": 3
      },
      "file_extension": ".py",
      "mimetype": "text/x-python",
      "name": "python",
      "nbconvert_exporter": "python",
      "pygments_lexer": "ipython3",
      "version": "3.9.13"
    },
    "vscode": {
      "interpreter": {
        "hash": "369f2c481f4da34e4445cda3fffd2e751bd1c4d706f27375911949ba6bb62e1c"
      }
    }
  },
  "nbformat": 4,
  "nbformat_minor": 0
}